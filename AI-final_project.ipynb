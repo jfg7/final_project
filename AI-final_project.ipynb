{
  "nbformat": 4,
  "nbformat_minor": 0,
  "metadata": {
    "colab": {
      "name": "Untitled1.ipynb",
      "provenance": [],
      "collapsed_sections": [],
      "authorship_tag": "ABX9TyMqUR8SnE58mbaGHfe61n4h",
      "include_colab_link": true
    },
    "kernelspec": {
      "name": "python3",
      "display_name": "Python 3"
    },
    "language_info": {
      "name": "python"
    }
  },
  "cells": [
    {
      "cell_type": "markdown",
      "metadata": {
        "id": "view-in-github",
        "colab_type": "text"
      },
      "source": [
        "<a href=\"https://colab.research.google.com/github/jfg7/final_project/blob/master/AI-final_project.ipynb\" target=\"_parent\"><img src=\"https://colab.research.google.com/assets/colab-badge.svg\" alt=\"Open In Colab\"/></a>"
      ]
    },
    {
      "cell_type": "code",
      "metadata": {
        "colab": {
          "base_uri": "https://localhost:8080/"
        },
        "id": "1bZfiYMNHAYc",
        "outputId": "759bb388-f812-44e2-d6c0-bc9c87935f00"
      },
      "source": [
        "for i in range(10):\n",
        "    print('Hello darkness my old friend')"
      ],
      "execution_count": 1,
      "outputs": [
        {
          "output_type": "stream",
          "text": [
            "Hello darkness my old friend\n",
            "Hello darkness my old friend\n",
            "Hello darkness my old friend\n",
            "Hello darkness my old friend\n",
            "Hello darkness my old friend\n",
            "Hello darkness my old friend\n",
            "Hello darkness my old friend\n",
            "Hello darkness my old friend\n",
            "Hello darkness my old friend\n",
            "Hello darkness my old friend\n"
          ],
          "name": "stdout"
        }
      ]
    },
    {
      "cell_type": "code",
      "metadata": {
        "id": "W7KXOZ93HU2q"
      },
      "source": [
        ""
      ],
      "execution_count": null,
      "outputs": []
    }
  ]
}